{
 "cells": [
  {
   "cell_type": "markdown",
   "metadata": {},
   "source": [
    "# Matplotlib"
   ]
  },
  {
   "cell_type": "markdown",
   "metadata": {},
   "source": [
    "תחילה ייבאו את המודול pyplot מmatplotlib וקראו לו plt.\n",
    "\n",
    "בנוסף, יבאו את הספרייה pandas."
   ]
  },
  {
   "cell_type": "code",
   "execution_count": 7,
   "metadata": {},
   "outputs": [],
   "source": [
    "import pandas as pd\n",
    "from matplotlib import pyplot as plt"
   ]
  },
  {
   "cell_type": "markdown",
   "metadata": {},
   "source": [
    "כעת נכניס קצת מידע:"
   ]
  },
  {
   "cell_type": "code",
   "execution_count": 8,
   "metadata": {},
   "outputs": [
    {
     "data": {
      "text/html": [
       "<div>\n",
       "<style scoped>\n",
       "    .dataframe tbody tr th:only-of-type {\n",
       "        vertical-align: middle;\n",
       "    }\n",
       "\n",
       "    .dataframe tbody tr th {\n",
       "        vertical-align: top;\n",
       "    }\n",
       "\n",
       "    .dataframe thead th {\n",
       "        text-align: right;\n",
       "    }\n",
       "</style>\n",
       "<table border=\"1\" class=\"dataframe\">\n",
       "  <thead>\n",
       "    <tr style=\"text-align: right;\">\n",
       "      <th></th>\n",
       "      <th>Day</th>\n",
       "      <th>Temperature</th>\n",
       "    </tr>\n",
       "  </thead>\n",
       "  <tbody>\n",
       "    <tr>\n",
       "      <th>0</th>\n",
       "      <td>SUN</td>\n",
       "      <td>50</td>\n",
       "    </tr>\n",
       "    <tr>\n",
       "      <th>1</th>\n",
       "      <td>MON</td>\n",
       "      <td>51</td>\n",
       "    </tr>\n",
       "    <tr>\n",
       "      <th>2</th>\n",
       "      <td>TUE</td>\n",
       "      <td>52</td>\n",
       "    </tr>\n",
       "    <tr>\n",
       "      <th>3</th>\n",
       "      <td>WED</td>\n",
       "      <td>48</td>\n",
       "    </tr>\n",
       "    <tr>\n",
       "      <th>4</th>\n",
       "      <td>THU</td>\n",
       "      <td>47</td>\n",
       "    </tr>\n",
       "    <tr>\n",
       "      <th>5</th>\n",
       "      <td>FRI</td>\n",
       "      <td>49</td>\n",
       "    </tr>\n",
       "    <tr>\n",
       "      <th>6</th>\n",
       "      <td>SAT</td>\n",
       "      <td>46</td>\n",
       "    </tr>\n",
       "  </tbody>\n",
       "</table>\n",
       "</div>"
      ],
      "text/plain": [
       "   Day  Temperature\n",
       "0  SUN           50\n",
       "1  MON           51\n",
       "2  TUE           52\n",
       "3  WED           48\n",
       "4  THU           47\n",
       "5  FRI           49\n",
       "6  SAT           46"
      ]
     },
     "execution_count": 8,
     "metadata": {},
     "output_type": "execute_result"
    }
   ],
   "source": [
    "df = pd.DataFrame({'Day': ['SUN','MON','TUE','WED','THU','FRI','SAT'],\n",
    "                  'Temperature': [50,51,52,48,47,49,46]})\n",
    "\n",
    "df"
   ]
  },
  {
   "cell_type": "markdown",
   "metadata": {},
   "source": [
    "עכשיו כשיש לנו מידע נציג אותו בצורה ויזואלית!"
   ]
  },
  {
   "cell_type": "markdown",
   "metadata": {},
   "source": [
    "# plt.plot"
   ]
  },
  {
   "cell_type": "markdown",
   "metadata": {},
   "source": [
    "## Line chart"
   ]
  },
  {
   "cell_type": "markdown",
   "metadata": {},
   "source": [
    "צרו linechart (רמז - קראו על הפונקציה plt.plot) בעל המאפיינים הבאים:\n",
    "\n",
    "- צבע הקו יהיה ירוק\n",
    "\n",
    "- רוחב הקו יהיה 5\n",
    "\n",
    "- סגנון הקו יהיה dashdot\n",
    "\n",
    "בסוף נציג את הגרף עם הפונקציה plt.show() (קראו עליה באינטרנט)"
   ]
  },
  {
   "cell_type": "code",
   "execution_count": 9,
   "metadata": {},
   "outputs": [
    {
     "data": {
      "image/png": "[encoded data removed]",
      "text/plain": [
       "<Figure size 432x288 with 1 Axes>"
      ]
     },
     "metadata": {
      "needs_background": "light"
     },
     "output_type": "display_data"
    }
   ],
   "source": [
    "plt.plot(df.Day,df.Temperature, color='green',linewidth=5, linestyle='dashdot')\n",
    "plt.xlabel('Day')\n",
    "plt.ylabel('Temperature', rotation=0, labelpad=40)\n",
    "plt.title('Weather')\n",
    "plt.show()"
   ]
  },
  {
   "cell_type": "markdown",
   "metadata": {},
   "source": [
    "## תרגול"
   ]
  },
  {
   "cell_type": "markdown",
   "metadata": {},
   "source": [
    "צרו linechart בעל המאפיינים הבאים:\n",
    "\n",
    "- הצבע יהיה ירוק\n",
    "\n",
    "- המרקר יהיה \"+\"\n",
    "\n",
    "- סגנון הקו יהיה dashdot\n",
    "\n",
    "כדי שיהיה לנו יותר קל, נשים את העמודות במשתנים. "
   ]
  },
  {
   "cell_type": "code",
   "execution_count": 10,
   "metadata": {},
   "outputs": [],
   "source": [
    "x = df.Day\n",
    "y = df.Temperature\n"
   ]
  },
  {
   "cell_type": "markdown",
   "metadata": {},
   "source": [
    "## Format String"
   ]
  },
  {
   "cell_type": "markdown",
   "metadata": {},
   "source": [
    "קראו בקישור הבא על Format string - דרך נוספת לעצב את מאפייני הגרף שלנו אך הפעם נשתמש בstring פשוט במקום מספר פרמטרים שונים: https://python-course.eu/numerical-programming/formatting-plot-in-matplotlib.php"
   ]
  },
  {
   "cell_type": "markdown",
   "metadata": {},
   "source": [
    "כעת צרו את אותו הגרף בעזרת format string:"
   ]
  },
  {
   "cell_type": "code",
   "execution_count": null,
   "metadata": {},
   "outputs": [],
   "source": [
    "\n"
   ]
  },
  {
   "cell_type": "markdown",
   "metadata": {},
   "source": [
    "שנו את גודל המרקר ל 20 (פה כבר אין צורך להשתמש בformat string)."
   ]
  },
  {
   "cell_type": "code",
   "execution_count": null,
   "metadata": {},
   "outputs": [],
   "source": []
  },
  {
   "cell_type": "markdown",
   "metadata": {},
   "source": [
    "הוסיפו לגרף עמעום (opacity) של 0.5"
   ]
  },
  {
   "cell_type": "code",
   "execution_count": null,
   "metadata": {},
   "outputs": [],
   "source": []
  },
  {
   "cell_type": "markdown",
   "metadata": {},
   "source": [
    "## Axes labels, Legend, Grid"
   ]
  },
  {
   "cell_type": "markdown",
   "metadata": {},
   "source": [
    "### legend - מתאר לגרף"
   ]
  },
  {
   "cell_type": "markdown",
   "metadata": {},
   "source": [
    "ניצור קצת מידע..."
   ]
  },
  {
   "cell_type": "code",
   "execution_count": 36,
   "metadata": {},
   "outputs": [
    {
     "data": {
      "text/html": [
       "<div>\n",
       "<style scoped>\n",
       "    .dataframe tbody tr th:only-of-type {\n",
       "        vertical-align: middle;\n",
       "    }\n",
       "\n",
       "    .dataframe tbody tr th {\n",
       "        vertical-align: top;\n",
       "    }\n",
       "\n",
       "    .dataframe thead th {\n",
       "        text-align: right;\n",
       "    }\n",
       "</style>\n",
       "<table border=\"1\" class=\"dataframe\">\n",
       "  <thead>\n",
       "    <tr style=\"text-align: right;\">\n",
       "      <th></th>\n",
       "      <th>Day</th>\n",
       "      <th>Max_Temperature</th>\n",
       "      <th>Min_Temperature</th>\n",
       "      <th>Avg_Temperature</th>\n",
       "    </tr>\n",
       "  </thead>\n",
       "  <tbody>\n",
       "    <tr>\n",
       "      <th>0</th>\n",
       "      <td>SUN</td>\n",
       "      <td>50</td>\n",
       "      <td>43</td>\n",
       "      <td>45</td>\n",
       "    </tr>\n",
       "    <tr>\n",
       "      <th>1</th>\n",
       "      <td>MON</td>\n",
       "      <td>51</td>\n",
       "      <td>42</td>\n",
       "      <td>48</td>\n",
       "    </tr>\n",
       "    <tr>\n",
       "      <th>2</th>\n",
       "      <td>TUE</td>\n",
       "      <td>52</td>\n",
       "      <td>40</td>\n",
       "      <td>48</td>\n",
       "    </tr>\n",
       "    <tr>\n",
       "      <th>3</th>\n",
       "      <td>WED</td>\n",
       "      <td>48</td>\n",
       "      <td>44</td>\n",
       "      <td>46</td>\n",
       "    </tr>\n",
       "    <tr>\n",
       "      <th>4</th>\n",
       "      <td>THU</td>\n",
       "      <td>47</td>\n",
       "      <td>33</td>\n",
       "      <td>40</td>\n",
       "    </tr>\n",
       "    <tr>\n",
       "      <th>5</th>\n",
       "      <td>FRI</td>\n",
       "      <td>49</td>\n",
       "      <td>35</td>\n",
       "      <td>42</td>\n",
       "    </tr>\n",
       "    <tr>\n",
       "      <th>6</th>\n",
       "      <td>SAT</td>\n",
       "      <td>46</td>\n",
       "      <td>37</td>\n",
       "      <td>41</td>\n",
       "    </tr>\n",
       "  </tbody>\n",
       "</table>\n",
       "</div>"
      ],
      "text/plain": [
       "   Day  Max_Temperature  Min_Temperature  Avg_Temperature\n",
       "0  SUN               50               43               45\n",
       "1  MON               51               42               48\n",
       "2  TUE               52               40               48\n",
       "3  WED               48               44               46\n",
       "4  THU               47               33               40\n",
       "5  FRI               49               35               42\n",
       "6  SAT               46               37               41"
      ]
     },
     "execution_count": 36,
     "metadata": {},
     "output_type": "execute_result"
    }
   ],
   "source": [
    "df = pd.DataFrame({'Day': ['SUN','MON','TUE','WED','THU','FRI','SAT'],\n",
    "                  'Max_Temperature': [50,51,52,48,47,49,46],\n",
    "                  'Min_Temperature': [43,42,40,44,33,35,37],\n",
    "                  'Avg_Temperature': [45,48,48,46,40,42,41]})\n",
    "\n",
    "max_t = df.Max_Temperature\n",
    "min_t = df.Min_Temperature\n",
    "avg_t = df.Avg_Temperature\n",
    "days = df.Day\n",
    "\n",
    "df"
   ]
  },
  {
   "cell_type": "markdown",
   "metadata": {},
   "source": [
    "צרו גרף שמציג 3 קווים\n",
    "\n",
    "ציר הX יהיה days\n",
    "\n",
    "ציר הY יהיה טמפרטורה\n",
    "\n",
    "הוסיפו כותרות מתאימות לצירים\n",
    "\n",
    "הוסיפו כותרת weather לגרף"
   ]
  },
  {
   "cell_type": "code",
   "execution_count": null,
   "metadata": {
    "scrolled": true
   },
   "outputs": [],
   "source": []
  },
  {
   "cell_type": "markdown",
   "metadata": {},
   "source": [
    "הוסיפו לכל אחד מהקווים תווית מתאימה שתתאר אותו.\n",
    "\n",
    "הוסיפו לגרף מתאר (באננגלית - legend)\n",
    "\n",
    "מקמו את המתאר במקום הטוב ביותר (רמז - loc)"
   ]
  },
  {
   "cell_type": "code",
   "execution_count": null,
   "metadata": {},
   "outputs": [],
   "source": []
  },
  {
   "cell_type": "markdown",
   "metadata": {},
   "source": [
    "כעת נכנס עמוק יותר לתוך הפונקציה plt.legend\n",
    "\n",
    "כנסו לדוקומנטציה באינטרנט ווסיפו את הפרמטרים הבאים:\n",
    "\n",
    "צל\n",
    "\n",
    "גודל כתב\n",
    "\n",
    "חפשו מאפיינים נוספים לבחירתכם :)"
   ]
  },
  {
   "cell_type": "code",
   "execution_count": null,
   "metadata": {},
   "outputs": [],
   "source": []
  },
  {
   "cell_type": "markdown",
   "metadata": {},
   "source": [
    "### Grid - רקע רשת"
   ]
  },
  {
   "cell_type": "markdown",
   "metadata": {},
   "source": [
    "הוסיפו grid לגרף שלכם"
   ]
  },
  {
   "cell_type": "code",
   "execution_count": null,
   "metadata": {
    "scrolled": true
   },
   "outputs": [],
   "source": []
  },
  {
   "cell_type": "markdown",
   "metadata": {},
   "source": [
    "## Bar Chart"
   ]
  },
  {
   "cell_type": "markdown",
   "metadata": {},
   "source": [
    "ניצור מידע"
   ]
  },
  {
   "cell_type": "code",
   "execution_count": 41,
   "metadata": {},
   "outputs": [
    {
     "data": {
      "text/html": [
       "<div>\n",
       "<style scoped>\n",
       "    .dataframe tbody tr th:only-of-type {\n",
       "        vertical-align: middle;\n",
       "    }\n",
       "\n",
       "    .dataframe tbody tr th {\n",
       "        vertical-align: top;\n",
       "    }\n",
       "\n",
       "    .dataframe thead th {\n",
       "        text-align: right;\n",
       "    }\n",
       "</style>\n",
       "<table border=\"1\" class=\"dataframe\">\n",
       "  <thead>\n",
       "    <tr style=\"text-align: right;\">\n",
       "      <th></th>\n",
       "      <th>Company</th>\n",
       "      <th>Revenue</th>\n",
       "      <th>Profit</th>\n",
       "    </tr>\n",
       "  </thead>\n",
       "  <tbody>\n",
       "    <tr>\n",
       "      <th>0</th>\n",
       "      <td>GOOGLE</td>\n",
       "      <td>90</td>\n",
       "      <td>40</td>\n",
       "    </tr>\n",
       "    <tr>\n",
       "      <th>1</th>\n",
       "      <td>AMAZON</td>\n",
       "      <td>136</td>\n",
       "      <td>2</td>\n",
       "    </tr>\n",
       "    <tr>\n",
       "      <th>2</th>\n",
       "      <td>MSFT</td>\n",
       "      <td>89</td>\n",
       "      <td>34</td>\n",
       "    </tr>\n",
       "    <tr>\n",
       "      <th>3</th>\n",
       "      <td>FACEBOOK</td>\n",
       "      <td>27</td>\n",
       "      <td>12</td>\n",
       "    </tr>\n",
       "  </tbody>\n",
       "</table>\n",
       "</div>"
      ],
      "text/plain": [
       "    Company  Revenue  Profit\n",
       "0    GOOGLE       90      40\n",
       "1    AMAZON      136       2\n",
       "2      MSFT       89      34\n",
       "3  FACEBOOK       27      12"
      ]
     },
     "execution_count": 41,
     "metadata": {},
     "output_type": "execute_result"
    }
   ],
   "source": [
    "df = pd.DataFrame({'Company': ['GOOGLE', 'AMAZON', 'MSFT', 'FACEBOOK'],\n",
    "                  'Revenue': [90, 136, 89, 27],\n",
    "                  'Profit': [40,2,34,12]})\n",
    "\n",
    "company = df.Company\n",
    "revenue = df.Revenue\n",
    "profit = df.Profit\n",
    "\n",
    "df"
   ]
  },
  {
   "cell_type": "markdown",
   "metadata": {},
   "source": [
    "כעת ניצור גרף עמודות מהמידע.\n",
    "\n",
    "בנתיים ציר הX שלנו ייצג את החברות, בהמשך נוכל לשנות את זה"
   ]
  },
  {
   "cell_type": "code",
   "execution_count": null,
   "metadata": {},
   "outputs": [],
   "source": []
  },
  {
   "cell_type": "markdown",
   "metadata": {},
   "source": [
    "מה אם נרצה להוסיף את ההכנסות לגרף שלנו?"
   ]
  },
  {
   "cell_type": "code",
   "execution_count": null,
   "metadata": {},
   "outputs": [],
   "source": []
  },
  {
   "cell_type": "markdown",
   "metadata": {},
   "source": [
    "שנו את הגרף כך שעמודות הרווח וההכנסות יהיו מופרדות אחת מהשנייה (רמז השתמשו במערך של numpy)"
   ]
  },
  {
   "cell_type": "code",
   "execution_count": null,
   "metadata": {},
   "outputs": [],
   "source": []
  },
  {
   "cell_type": "markdown",
   "metadata": {},
   "source": [
    "ואם נרצה שהגרף שלנו יהיה אופקי?"
   ]
  },
  {
   "cell_type": "code",
   "execution_count": null,
   "metadata": {},
   "outputs": [],
   "source": []
  },
  {
   "cell_type": "markdown",
   "metadata": {},
   "source": [
    "## Histograms"
   ]
  },
  {
   "cell_type": "markdown",
   "metadata": {},
   "source": [
    "מידע!"
   ]
  },
  {
   "cell_type": "code",
   "execution_count": 46,
   "metadata": {},
   "outputs": [],
   "source": [
    "blood_sugar_men = [113, 85, 90, 150, 149, 88, 93, 115,135, 80, 77, 82, 129]\n",
    "blood_sugar_women = [67, 98, 89, 120, 133, 150, 84, 69, 89, 79, 120, 112, 100]"
   ]
  },
  {
   "cell_type": "markdown",
   "metadata": {},
   "source": [
    "צרו היסטוגרמה מהמידע"
   ]
  },
  {
   "cell_type": "code",
   "execution_count": null,
   "metadata": {},
   "outputs": [],
   "source": []
  },
  {
   "cell_type": "markdown",
   "metadata": {},
   "source": [
    "אנו יכולים להגדיר בעצמנו כמה בינים יהיו בגרף שלנו - נעשה זאת באמצעות הגדרת הפרמטר \"bins = n\" וכך יהיו לנו n בינים בטווח המידע שלנו.\n",
    "\n",
    "נוכל גם ליצור רווחים בין הבינים באמצעות הפרמטר rwidth\n",
    "\n",
    "וכך נחשב את האורך באופן יחסי לגודל הבינים"
   ]
  },
  {
   "cell_type": "code",
   "execution_count": null,
   "metadata": {},
   "outputs": [],
   "source": []
  },
  {
   "cell_type": "markdown",
   "metadata": {},
   "source": [
    "נוכל להכניס לפרמטר bin גם רשימה של ערכים שיהוו את טווח הבינים שלנו.\n",
    "\n",
    "נסו זאת בעצמכן"
   ]
  },
  {
   "cell_type": "code",
   "execution_count": null,
   "metadata": {},
   "outputs": [],
   "source": []
  },
  {
   "cell_type": "markdown",
   "metadata": {},
   "source": [
    "כנסו לדוקומנטציה וחפשו מאפיינים תכונות של הפונקציה hist"
   ]
  },
  {
   "cell_type": "markdown",
   "metadata": {},
   "source": [
    "ואם נרצה שהעמודות יהיו מופרדות?\n",
    "\n",
    "*לא לשכוח כותרות ותוויות\n"
   ]
  },
  {
   "cell_type": "code",
   "execution_count": null,
   "metadata": {},
   "outputs": [],
   "source": []
  },
  {
   "cell_type": "markdown",
   "metadata": {},
   "source": [
    "ועכשיו נהפוך את הגרף לאופקי"
   ]
  },
  {
   "cell_type": "code",
   "execution_count": null,
   "metadata": {},
   "outputs": [],
   "source": []
  },
  {
   "cell_type": "markdown",
   "metadata": {},
   "source": [
    "## Pie Chart\n",
    "\n",
    "מידע מידע מידע"
   ]
  },
  {
   "cell_type": "code",
   "execution_count": 52,
   "metadata": {},
   "outputs": [],
   "source": [
    "exp_vals = [1400, 600, 300, 410, 250]\n",
    "exp_labels = ['Home Rent', 'Food', 'Phone/Internet Bill', 'Car', 'Other Utilities']"
   ]
  },
  {
   "cell_type": "markdown",
   "metadata": {},
   "source": [
    "הציגו את המידע בגרף עוגה"
   ]
  },
  {
   "cell_type": "code",
   "execution_count": null,
   "metadata": {},
   "outputs": [],
   "source": []
  },
  {
   "cell_type": "markdown",
   "metadata": {},
   "source": [
    "הפכו את הרדיוס של העיגול ל150% והוסיפו לכל חתיכה מהעוגה ייצוג באחוזים של שתי ספרות אחרי הנקודה"
   ]
  },
  {
   "cell_type": "code",
   "execution_count": null,
   "metadata": {},
   "outputs": [],
   "source": []
  },
  {
   "cell_type": "markdown",
   "metadata": {},
   "source": [
    "קראו על הפרמטר explode והפרידו בעזרתו משאר הגרף את:\n",
    "\n",
    "Food\n",
    "\n",
    "Other Utilities"
   ]
  },
  {
   "cell_type": "code",
   "execution_count": null,
   "metadata": {},
   "outputs": [],
   "source": []
  },
  {
   "cell_type": "markdown",
   "metadata": {},
   "source": [
    "הפכו את הגרף כך ש \"Home Rent\" יהיה בתחתית הגרף"
   ]
  },
  {
   "cell_type": "code",
   "execution_count": null,
   "metadata": {
    "scrolled": true
   },
   "outputs": [],
   "source": []
  },
  {
   "cell_type": "markdown",
   "metadata": {},
   "source": [
    "## Subplots\n",
    "כעת, נלמד כיצד להציג מספר גרפים באותה תבנית "
   ]
  },
  {
   "cell_type": "markdown",
   "metadata": {},
   "source": [
    "קראו על הפונקציה subplots"
   ]
  },
  {
   "cell_type": "markdown",
   "metadata": {},
   "source": [
    "צרו שני תרשימי קו אחד מעל השני והציגו אותם בתבנית אחת. השתמשו במידע על הטמפרטורה (max_t, min_t)\n",
    "\n",
    "הציגו את הגרפים כך שציר הX שלהם יהיה משותף"
   ]
  },
  {
   "cell_type": "code",
   "execution_count": null,
   "metadata": {},
   "outputs": [],
   "source": []
  },
  {
   "cell_type": "markdown",
   "metadata": {},
   "source": [
    "כעת צרו שלושה תרשימי קו באותה תבנית,הוסיפו להם כותרות וצבעים שונים (השתמשו גם ב avg_t)"
   ]
  },
  {
   "cell_type": "code",
   "execution_count": null,
   "metadata": {},
   "outputs": [],
   "source": []
  },
  {
   "cell_type": "markdown",
   "metadata": {},
   "source": [
    "כעת הציגו שתי היסטוגרמות אחת ליד השנייה - השתמשו במידע על רמת הסוכר בדם אצל גברים ואצל נשים"
   ]
  },
  {
   "cell_type": "code",
   "execution_count": null,
   "metadata": {},
   "outputs": [],
   "source": []
  },
  {
   "cell_type": "markdown",
   "metadata": {},
   "source": [
    "התקבל מידע על טמפרטורות בישראל:"
   ]
  },
  {
   "cell_type": "code",
   "execution_count": 60,
   "metadata": {},
   "outputs": [],
   "source": [
    "israel_t = [52,44, 47, 43,40,47,49]"
   ]
  },
  {
   "cell_type": "markdown",
   "metadata": {},
   "source": [
    "הציגו את המידע בתבנית לאורך (המידע על טמפרטורות), השתמשו בלולאה!"
   ]
  },
  {
   "cell_type": "code",
   "execution_count": null,
   "metadata": {},
   "outputs": [],
   "source": []
  },
  {
   "cell_type": "markdown",
   "metadata": {},
   "source": [
    "הגיע מידע נוסף על טמפרטורות מארצות הברית:"
   ]
  },
  {
   "cell_type": "code",
   "execution_count": 62,
   "metadata": {},
   "outputs": [],
   "source": [
    "usa_t = [40,43, 44, 44,42,44,39]"
   ]
  },
  {
   "cell_type": "markdown",
   "metadata": {},
   "source": [
    "הוסיפו את המידע והציגו אותו,בצורה דינאמית(בלולאה)"
   ]
  },
  {
   "cell_type": "code",
   "execution_count": null,
   "metadata": {},
   "outputs": [],
   "source": []
  },
  {
   "cell_type": "markdown",
   "metadata": {},
   "source": [
    "## ייצוא גרף לקובץ\n",
    "אנו יכולים לשמור גרף כקובץ, קראו באינטרנט כיצד ושמרו את הגרף שיצרתם כקובץ עם נתיב מפורט"
   ]
  },
  {
   "cell_type": "code",
   "execution_count": null,
   "metadata": {},
   "outputs": [],
   "source": []
  },
  {
   "cell_type": "code",
   "execution_count": null,
   "metadata": {},
   "outputs": [],
   "source": []
  }
 ],
 "metadata": {
  "direction": "rtl",
  "kernelspec": {
   "display_name": "Python 3 (ipykernel)",
   "language": "python",
   "name": "python3"
  },
  "language_info": {
   "codemirror_mode": {
    "name": "ipython",
    "version": 3
   },
   "file_extension": ".py",
   "mimetype": "text/x-python",
   "name": "python",
   "nbconvert_exporter": "python",
   "pygments_lexer": "ipython3",
   "version": "3.9.7"
  }
 },
 "nbformat": 4,
 "nbformat_minor": 2
}
